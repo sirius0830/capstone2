{
 "cells": [
  {
   "cell_type": "code",
   "execution_count": 25,
   "id": "2398286c-ac7b-408c-b5e4-cab56898ec31",
   "metadata": {},
   "outputs": [],
   "source": [
    "import undetected_chromedriver as uc\n",
    "from selenium.webdriver.common.by import By\n",
    "from selenium.webdriver.support.ui import WebDriverWait\n",
    "from selenium.webdriver.support import expected_conditions as EC\n",
    "from fake_useragent import UserAgent\n",
    "from selenium_stealth import stealth\n",
    "from selenium.webdriver.chrome.service import Service"
   ]
  },
  {
   "cell_type": "code",
   "execution_count": 27,
   "id": "f8949dea-5cb8-4920-af0f-aa8dfa3c9043",
   "metadata": {},
   "outputs": [],
   "source": [
    "from selenium.webdriver.common.by import By\n",
    "from webdriver_manager.chrome import ChromeDriverManager"
   ]
  },
  {
   "cell_type": "code",
   "execution_count": 29,
   "id": "583b77ee-a5da-4329-911b-062a81bbb8c3",
   "metadata": {},
   "outputs": [],
   "source": [
    "from tqdm import tqdm"
   ]
  },
  {
   "cell_type": "code",
   "execution_count": 31,
   "id": "5298fd0e-bedd-4240-8b4d-e3190a77e688",
   "metadata": {},
   "outputs": [],
   "source": [
    "import time"
   ]
  },
  {
   "cell_type": "code",
   "execution_count": 33,
   "id": "22f5527f-5a8c-47f9-b044-b998adcfa838",
   "metadata": {},
   "outputs": [],
   "source": [
    "import pandas as pd"
   ]
  },
  {
   "cell_type": "code",
   "execution_count": null,
   "id": "8f2a0c00-508e-43e1-be1a-a85658adc705",
   "metadata": {},
   "outputs": [],
   "source": []
  },
  {
   "cell_type": "code",
   "execution_count": null,
   "id": "489f8844-7034-4b7f-b8cc-f9849fb3bee3",
   "metadata": {},
   "outputs": [],
   "source": []
  },
  {
   "cell_type": "code",
   "execution_count": 35,
   "id": "1fff43e8-0e3b-4583-a2ea-b52bc9376459",
   "metadata": {},
   "outputs": [],
   "source": [
    "driver = uc.Chrome(version_main=135)"
   ]
  },
  {
   "cell_type": "code",
   "execution_count": 37,
   "id": "b908f23f-e651-4e4f-9821-e7aa895a552d",
   "metadata": {},
   "outputs": [],
   "source": [
    "driver.get('https://www.zigbang.com/home/apt/item-catalog?areaHoId=10438879&tranType=trade')"
   ]
  },
  {
   "cell_type": "code",
   "execution_count": 55,
   "id": "f0487dc0-e468-4907-b761-570dc75d3983",
   "metadata": {},
   "outputs": [],
   "source": [
    "area_elements = driver.find_elements(By.XPATH, \"//div[contains(text(), '공급')]\")"
   ]
  },
  {
   "cell_type": "code",
   "execution_count": 57,
   "id": "00d7cbb7-3f03-4601-ae22-c786bac52ead",
   "metadata": {},
   "outputs": [
    {
     "data": {
      "text/plain": [
       "[<undetected_chromedriver.webelement.WebElement (session=\"9300d201b277f35ae022ff745e2661ef\", element=\"f.B837DE1BBE4050947AD434D62946FCC8.d.8E890F4A59EC26F60D265ADA08208B1F.e.545\")>,\n",
       " <undetected_chromedriver.webelement.WebElement (session=\"9300d201b277f35ae022ff745e2661ef\", element=\"f.B837DE1BBE4050947AD434D62946FCC8.d.8E890F4A59EC26F60D265ADA08208B1F.e.645\")>]"
      ]
     },
     "execution_count": 57,
     "metadata": {},
     "output_type": "execute_result"
    }
   ],
   "source": [
    "area_elements"
   ]
  },
  {
   "cell_type": "code",
   "execution_count": 59,
   "id": "d4641e86-d454-4ab9-b254-1142c27a1ddf",
   "metadata": {},
   "outputs": [
    {
     "name": "stdout",
     "output_type": "stream",
     "text": [
      "공급 83.3㎡ ・ 전용 59.93㎡\n",
      "- 19개동 / 1824대 / 14평형,16평형, 18평형(A~B타입), 22평형(A~B타입), \n",
      "25평형(A~C), 30평형(A~B),35평으로 이루어진 아파트\n",
      "\n",
      " - 59A 타입 / 공급면적 83.3㎡ / 전용면적 59.93㎡\n",
      "  방3/욕실2/발코니 기본형2/확장형1\n",
      "\n",
      "- 거실 기준 남향으로 채광 우수 / 고일 초등학교 및 인근 아파트 조망\n",
      "\n",
      "- 소유주 실 거주 / 입주일 협의 가능\n",
      "\n",
      "- 올확장, 시스템 에어컨 4대, 오븐, 가스레인지 설치 \n",
      "\n",
      " - 휘트니스센터, 실내 골프연습장, GX룸, 사우나 시설, 게스트 하우스, \n",
      "키즈놀이터 등 단지 내 다양한 입주민 시설 설치\n"
     ]
    }
   ],
   "source": [
    "for elem in area_elements:\n",
    "    print(elem.text)"
   ]
  },
  {
   "cell_type": "code",
   "execution_count": null,
   "id": "7df8d456-79c2-4ece-9758-334a51871f12",
   "metadata": {},
   "outputs": [],
   "source": []
  }
 ],
 "metadata": {
  "kernelspec": {
   "display_name": "Python [conda env:base] *",
   "language": "python",
   "name": "conda-base-py"
  },
  "language_info": {
   "codemirror_mode": {
    "name": "ipython",
    "version": 3
   },
   "file_extension": ".py",
   "mimetype": "text/x-python",
   "name": "python",
   "nbconvert_exporter": "python",
   "pygments_lexer": "ipython3",
   "version": "3.12.7"
  }
 },
 "nbformat": 4,
 "nbformat_minor": 5
}
