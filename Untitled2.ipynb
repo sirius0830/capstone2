{
 "cells": [
  {
   "cell_type": "code",
   "execution_count": 5,
   "id": "4b2c356a-3ad4-47a9-b1d5-295da31b80f3",
   "metadata": {},
   "outputs": [
    {
     "name": "stdin",
     "output_type": "stream",
     "text": [
      " css-1563yu1 r-aw03qq r-1wbh5a2 r-1w6e6rj r-159m18f r-1b43r93 r-majxgm r-rjixqe r-fdjqy7 r-13wfysu r-q42fyq r-1ad0z5i\n"
     ]
    }
   ],
   "source": [
    "changer = input()"
   ]
  },
  {
   "cell_type": "code",
   "execution_count": 7,
   "id": "29fc1a96-bd38-4fff-b9b2-245b023aeeac",
   "metadata": {},
   "outputs": [
    {
     "data": {
      "text/plain": [
       "'css-1563yu1.r-aw03qq.r-1wbh5a2.r-1w6e6rj.r-159m18f.r-1b43r93.r-majxgm.r-rjixqe.r-fdjqy7.r-13wfysu.r-q42fyq.r-1ad0z5i'"
      ]
     },
     "execution_count": 7,
     "metadata": {},
     "output_type": "execute_result"
    }
   ],
   "source": [
    "changer.replace(' ','.')"
   ]
  },
  {
   "cell_type": "code",
   "execution_count": null,
   "id": "f8805fff-9dd5-43ef-93ca-9404763b9e27",
   "metadata": {},
   "outputs": [],
   "source": []
  }
 ],
 "metadata": {
  "kernelspec": {
   "display_name": "Python [conda env:base] *",
   "language": "python",
   "name": "conda-base-py"
  },
  "language_info": {
   "codemirror_mode": {
    "name": "ipython",
    "version": 3
   },
   "file_extension": ".py",
   "mimetype": "text/x-python",
   "name": "python",
   "nbconvert_exporter": "python",
   "pygments_lexer": "ipython3",
   "version": "3.12.7"
  }
 },
 "nbformat": 4,
 "nbformat_minor": 5
}
