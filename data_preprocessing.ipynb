{
 "cells": [
  {
   "cell_type": "code",
   "execution_count": 7,
   "id": "16fbf488-e23d-4249-88f5-46e0ed93b85d",
   "metadata": {},
   "outputs": [],
   "source": [
    "import pandas as pd\n",
    "\n",
    "# 원본 \n",
    "file_path = \"gwangju_not_rent.csv\"\n",
    "\n",
    "# 설명 줄 건너뛰기 (전용면적이 포함된 줄부터 시작)\n",
    "with open(file_path, encoding='cp949') as f:\n",
    "    for i, line in enumerate(f):\n",
    "        if '전용면적' in line:\n",
    "            header_row = i\n",
    "            break\n",
    "\n",
    "# CSV 로드 (헤더 시작 줄부터)\n",
    "df = pd.read_csv(file_path, encoding='cp949', skiprows=header_row)\n",
    "\n",
    "# 열 이름 영어로 변경\n",
    "df = df.rename(columns={\n",
    "    '전용면적(㎡)': 'area',\n",
    "    '거래금액(만원)': 'price',\n",
    "    '시군구':'dong'\n",
    "})\n",
    "\n",
    "# 필요한 열만 선택\n",
    "df = df[['dong', 'exclusive_area', 'price']].dropna()\n",
    "\n",
    "# price 쉼표 제거하고 숫자형으로 변환\n",
    "df['price'] = df['price'].replace(',', '', regex=True).astype(int)\n",
    "\n",
    "# 새 CSV로 저장\n",
    "df.to_csv(\"cleaned_gwangju_not_rent.csv\", index=False, encoding='utf-8-sig')"
   ]
  },
  {
   "cell_type": "code",
   "execution_count": 9,
   "id": "2fe1d462-6a54-417d-bca3-890205f0e010",
   "metadata": {},
   "outputs": [
    {
     "data": {
      "text/html": [
       "<div>\n",
       "<style scoped>\n",
       "    .dataframe tbody tr th:only-of-type {\n",
       "        vertical-align: middle;\n",
       "    }\n",
       "\n",
       "    .dataframe tbody tr th {\n",
       "        vertical-align: top;\n",
       "    }\n",
       "\n",
       "    .dataframe thead th {\n",
       "        text-align: right;\n",
       "    }\n",
       "</style>\n",
       "<table border=\"1\" class=\"dataframe\">\n",
       "  <thead>\n",
       "    <tr style=\"text-align: right;\">\n",
       "      <th></th>\n",
       "      <th>dong</th>\n",
       "      <th>exclusive_area</th>\n",
       "      <th>price</th>\n",
       "    </tr>\n",
       "  </thead>\n",
       "  <tbody>\n",
       "    <tr>\n",
       "      <th>0</th>\n",
       "      <td>광주광역시 서구 풍암동</td>\n",
       "      <td>60.0000</td>\n",
       "      <td>15050</td>\n",
       "    </tr>\n",
       "    <tr>\n",
       "      <th>1</th>\n",
       "      <td>광주광역시 남구 봉선동</td>\n",
       "      <td>84.6400</td>\n",
       "      <td>24700</td>\n",
       "    </tr>\n",
       "    <tr>\n",
       "      <th>2</th>\n",
       "      <td>광주광역시 동구 계림동</td>\n",
       "      <td>84.9738</td>\n",
       "      <td>49800</td>\n",
       "    </tr>\n",
       "    <tr>\n",
       "      <th>3</th>\n",
       "      <td>광주광역시 북구 오치동</td>\n",
       "      <td>31.3200</td>\n",
       "      <td>4000</td>\n",
       "    </tr>\n",
       "    <tr>\n",
       "      <th>4</th>\n",
       "      <td>광주광역시 서구 금호동</td>\n",
       "      <td>127.3400</td>\n",
       "      <td>46500</td>\n",
       "    </tr>\n",
       "  </tbody>\n",
       "</table>\n",
       "</div>"
      ],
      "text/plain": [
       "           dong  exclusive_area  price\n",
       "0  광주광역시 서구 풍암동         60.0000  15050\n",
       "1  광주광역시 남구 봉선동         84.6400  24700\n",
       "2  광주광역시 동구 계림동         84.9738  49800\n",
       "3  광주광역시 북구 오치동         31.3200   4000\n",
       "4  광주광역시 서구 금호동        127.3400  46500"
      ]
     },
     "execution_count": 9,
     "metadata": {},
     "output_type": "execute_result"
    }
   ],
   "source": [
    "df.head()"
   ]
  },
  {
   "cell_type": "code",
   "execution_count": 11,
   "id": "b51138eb-2259-4cb3-92cb-47fdb2075b66",
   "metadata": {},
   "outputs": [],
   "source": []
  },
  {
   "cell_type": "code",
   "execution_count": 13,
   "id": "e62352cf-c5b3-462c-a6ee-848258295459",
   "metadata": {},
   "outputs": [],
   "source": []
  },
  {
   "cell_type": "code",
   "execution_count": null,
   "id": "1d647af7-3b6c-45c7-9832-c56e6a2d7fc6",
   "metadata": {},
   "outputs": [],
   "source": []
  }
 ],
 "metadata": {
  "kernelspec": {
   "display_name": "Python [conda env:base] *",
   "language": "python",
   "name": "conda-base-py"
  },
  "language_info": {
   "codemirror_mode": {
    "name": "ipython",
    "version": 3
   },
   "file_extension": ".py",
   "mimetype": "text/x-python",
   "name": "python",
   "nbconvert_exporter": "python",
   "pygments_lexer": "ipython3",
   "version": "3.12.7"
  }
 },
 "nbformat": 4,
 "nbformat_minor": 5
}
